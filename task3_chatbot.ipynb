{
  "nbformat": 4,
  "nbformat_minor": 0,
  "metadata": {
    "colab": {
      "provenance": [],
      "authorship_tag": "ABX9TyMQxJ0idSDpDQ9Z2dGM0Xs7",
      "include_colab_link": true
    },
    "kernelspec": {
      "name": "python3",
      "display_name": "Python 3"
    },
    "language_info": {
      "name": "python"
    }
  },
  "cells": [
    {
      "cell_type": "markdown",
      "metadata": {
        "id": "view-in-github",
        "colab_type": "text"
      },
      "source": [
        "<a href=\"https://colab.research.google.com/github/vamshi398/VamshiCodeAlpha3/blob/main/task3_chatbot.ipynb\" target=\"_parent\"><img src=\"https://colab.research.google.com/assets/colab-badge.svg\" alt=\"Open In Colab\"/></a>"
      ]
    },
    {
      "cell_type": "code",
      "execution_count": 1,
      "metadata": {
        "colab": {
          "base_uri": "https://localhost:8080/"
        },
        "id": "IK6pCT6Hg_5r",
        "outputId": "6773eb18-4ae0-4bdc-d3aa-48069d7b8c1c"
      },
      "outputs": [
        {
          "name": "stdout",
          "output_type": "stream",
          "text": [
            "Welcome to the chatbot! Type 'quit' to exit.\n",
            "> hello\n",
            "Greetings!\n",
            "> tell me a joke\n",
            "I tried starting a hot air balloon business, but it never took off!\n",
            "> quit\n",
            "What is the answer to the riddle? map\n",
            "Correct!\n",
            "> quit\n"
          ]
        }
      ],
      "source": [
        "import nltk\n",
        "from nltk.chat.util import Chat\n",
        "\n",
        "pairs = [\n",
        "    [\"hello\", [\"Greetings!\", \"How can I assist you today?\"]],\n",
        "    [\"how are you\", [\"I'm doing very well, thank you!\", \"I'm feeling quite good. How about yourself?\"]],\n",
        "    [\"what can you do\", [\"I am capable of answering your questions, providing summaries of factual topics, or crafting creative stories. What would you like to explore?\"]],\n",
        "    [\"tell me a joke\", [\"I tried starting a hot air balloon business, but it never took off!\"]],\n",
        "    [\"goodbye\", [\"Farewell! Have a wonderful day!\"]],\n",
        "    [\"what's the weather like\", [\"The weather today is sunny.\", \"It's raining outside at the moment.\", \"The sky is currently overcast.\", \"It's snowing heavily.\"] ],\n",
        "    [\"what's your favorite color\", [\"My favorite color is a serene blue.\", \"I do not have a preferred color.\", \"I appreciate all colors equally.\"]],\n",
        "    [\"give me a riddle\", [\"I have cities, but no houses. I have mountains, but no trees. I have water, but no fish. What am I?\"]],\n",
        "]\n",
        "\n",
        "def chat(pairs, reflections):\n",
        "    # Create a chat session\n",
        "    chatbot = Chat(pairs, reflections)\n",
        "    print(\"Welcome to the chatbot! Type 'quit' to exit.\")\n",
        "    while True:\n",
        "        user_input = input(\"> \")\n",
        "        if user_input.lower() == 'quit':\n",
        "            break\n",
        "        response = chatbot.respond(user_input)\n",
        "        if response is None:\n",
        "            response = \"I'm still learning. Could you please rephrase your question?\"\n",
        "        print(response)\n",
        "\n",
        "# Run the chatbot\n",
        "reflections = {\n",
        "    \"am\": \"are\",\n",
        "    \"what\": \"that\",\n",
        "    \"can\": \"could\",\n",
        "    \"will\": \"would\",\n",
        "    \"were\": \"was\",\n",
        "    \"just\": \"\",\n",
        "    \"should\": \"should\",\n",
        "    \"may\": \"might\",\n",
        "    \"isn't\": \"is not\",\n",
        "    \"aren't\": \"are not\",\n",
        "    \"wasn't\": \"was not\",\n",
        "    \"weren't\": \"were not\",\n",
        "    \"haven't\": \"have not\",\n",
        "    \"hasn't\": \"has not\",\n",
        "    \"don't\": \"do not\",\n",
        "    \"doesn't\": \"does not\",\n",
        "    \"didn't\": \"did not\",\n",
        "    \"won't\": \"will not\",\n",
        "    \"can't\": \"cannot\",\n",
        "    \"shouldn't\": \"should not\"\n",
        "}\n",
        "\n",
        "# Add riddle and answer\n",
        "riddle = \"I have cities, but no houses. I have mountains, but no trees. I have water, but no fish. What am I?\"\n",
        "answer = \"map\"\n",
        "\n",
        "chat(pairs, reflections)\n",
        "\n",
        "# Ask for riddle answer\n",
        "user_answer = input(\"What is the answer to the riddle? \")\n",
        "if user_answer.lower() == answer.lower():\n",
        "    print(\"Correct!\")\n",
        "else:\n",
        "    print(\"Incorrect. The answer is:\", answer)\n",
        "\n",
        "# Keep the chatbot running in an interactive environment\n",
        "while True:\n",
        "    user_input = input(\"> \")\n",
        "    if user_input.lower() == 'quit':\n",
        "        break\n",
        "    response = chatbot.respond(user_input)\n",
        "    if response is None:\n",
        "        response = \"I'm still learning. Could you please rephrase your question?\"\n",
        "\n",
        "        print(response)"
      ]
    }
  ]
}